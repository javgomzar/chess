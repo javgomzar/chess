{
 "cells": [
  {
   "cell_type": "markdown",
   "metadata": {},
   "source": [
    "# Chess app Jupyter Notebook\n",
    "Hello and thanks for trying this app! To start we will import the main classes we will need. \n",
    "\n",
    "Run the following block:"
   ]
  },
  {
   "cell_type": "code",
   "execution_count": 10,
   "metadata": {},
   "outputs": [],
   "source": [
    "from src.core.classes.Game import Game\n",
    "from src.core.classes.Rules import Rules\n",
    "from src.core.classes.Ply import Ply\n",
    "from src.core.utils import square_to_index\n",
    "\n",
    "rules = Rules()\n",
    "game = Game()"
   ]
  },
  {
   "cell_type": "markdown",
   "metadata": {},
   "source": [
    "The following block we will use for pawn promotions. For now, when a pawn arrives to the last row it will be turned into a queen. If you want to change this, just set the variable `promotion` to the piece type you want your pawn to promote to.\n",
    "\n",
    "In either case, run this code block:"
   ]
  },
  {
   "cell_type": "code",
   "execution_count": 3,
   "metadata": {},
   "outputs": [],
   "source": [
    "from src.config.constants import QUEEN, BISHOP, KNIGHT, TOWER\n",
    "promotion = QUEEN"
   ]
  },
  {
   "cell_type": "markdown",
   "metadata": {},
   "source": [
    "This code block will print the state of the game board. Each time you input a valid move, run this code block to see the change in the board. If you executed all three previous blocks, this block should print the chess board in the initial state."
   ]
  },
  {
   "cell_type": "code",
   "execution_count": 12,
   "metadata": {},
   "outputs": [
    {
     "name": "stdout",
     "output_type": "stream",
     "text": [
      "  ╔════╤════╤════╤════╤════╤════╤════╤════╗\n",
      "8 ║ ♜ │ ♞ │ ♝ │ ♛ │ ♚ │ ♝ │ ♞ │ ♜ ║\n",
      "  ╟────┼────┼────┼────┼────┼────┼────┼────╢\n",
      "7 ║ ♟ │ ♟ │ ♟ │ ♟ │ ♟ │ ♟ │ ♟ │ ♟ ║\n",
      "  ╟────┼────┼────┼────┼────┼────┼────┼────╢\n",
      "6 ║    │    │    │    │    │    │    │    ║\n",
      "  ╟────┼────┼────┼────┼────┼────┼────┼────╢\n",
      "5 ║    │    │    │    │    │    │    │    ║\n",
      "  ╟────┼────┼────┼────┼────┼────┼────┼────╢\n",
      "4 ║    │    │    │    │ ♙ │    │    │    ║\n",
      "  ╟────┼────┼────┼────┼────┼────┼────┼────╢\n",
      "3 ║    │    │    │    │    │    │    │    ║\n",
      "  ╟────┼────┼────┼────┼────┼────┼────┼────╢\n",
      "2 ║ ♙ │ ♙ │ ♙ │ ♙ │    │ ♙ │ ♙ │ ♙ ║\n",
      "  ╟────┼────┼────┼────┼────┼────┼────┼────╢\n",
      "1 ║ ♖ │ ♘ │ ♗ │ ♕ │ ♔ │ ♗ │ ♘ │ ♖ ║\n",
      "  ╚════╧════╧════╧════╧════╧════╧════╧════╝\n",
      "    a    b    c    d    e    f    g    h   \n"
     ]
    }
   ],
   "source": [
    "print(game.board)"
   ]
  },
  {
   "cell_type": "markdown",
   "metadata": {},
   "source": [
    "In this code block you can input your moves. Just change the input of the `square_to_index` functions to the initial and final squares of the move you want to play, for example, replace `''` with `'e2'`. If you get an error message, try a different move. Each time a succesful move has been given, run the previous code block to see the change in the board."
   ]
  },
  {
   "cell_type": "code",
   "execution_count": 13,
   "metadata": {},
   "outputs": [
    {
     "name": "stdout",
     "output_type": "stream",
     "text": [
      "You selected an empty square.\n"
     ]
    }
   ],
   "source": [
    "start = square_to_index('')\n",
    "finish = square_to_index('')\n",
    "\n",
    "if not start:\n",
    "    print(\"Invalid start square.\")\n",
    "elif not finish:\n",
    "    print(\"Invalid finish square.\")\n",
    "else:\n",
    "    piece = game.board.state[start[0]-1][start[1]-1]\n",
    "    if not piece:\n",
    "        print(\"You selected an empty square.\")\n",
    "    else:\n",
    "        ply = Ply().set_start(start).set_finish(finish).set_piece(piece).set_promotion(promotion)\n",
    "        if game.validate_add_ply(ply):\n",
    "            print(\"Valid input: Print again the game board to see the change.\")\n",
    "        else:\n",
    "            print(\"Invalid move.\")"
   ]
  }
 ],
 "metadata": {
  "interpreter": {
   "hash": "63fd5069d213b44bf678585dea6b12cceca9941eaf7f819626cde1f2670de90d"
  },
  "kernelspec": {
   "display_name": "Python 3.9.5 64-bit",
   "name": "python3"
  },
  "language_info": {
   "codemirror_mode": {
    "name": "ipython",
    "version": 3
   },
   "file_extension": ".py",
   "mimetype": "text/x-python",
   "name": "python",
   "nbconvert_exporter": "python",
   "pygments_lexer": "ipython3",
   "version": "3.9.5"
  },
  "orig_nbformat": 4
 },
 "nbformat": 4,
 "nbformat_minor": 2
}
